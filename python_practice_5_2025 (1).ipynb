{
  "nbformat": 4,
  "nbformat_minor": 0,
  "metadata": {
    "colab": {
      "provenance": []
    },
    "kernelspec": {
      "name": "python3",
      "display_name": "Python 3"
    },
    "language_info": {
      "name": "python"
    }
  },
  "cells": [
    {
      "cell_type": "markdown",
      "source": [
        "# I. OOP"
      ],
      "metadata": {
        "id": "5qV_sehzFCTp"
      }
    },
    {
      "cell_type": "markdown",
      "source": [
        "1. (6б). Створіть клас Building, додайте три атрибути, один з яких має значення за замовчуванням та два методи на свій розсуд."
      ],
      "metadata": {
        "id": "tx_U_hOALyfg"
      }
    },
    {
      "cell_type": "code",
      "source": [
        "class Building:\n",
        "    def __init__(self, floors, color, material=\"brick\"):\n",
        "        self.floors = floors\n",
        "        self.color = color\n",
        "        self.material = material\n",
        "\n",
        "    def describe(self):\n",
        "        return f\"Building with {self.floors} floors, color {self.color}, made of {self.material}.\"\n",
        "\n",
        "    def repaint(self, new_color):\n",
        "        self.color = new_color\n",
        "        print(f\"The building has been repainted to {self.color}.\")\n"
      ],
      "metadata": {
        "id": "-Vf895KaL88N"
      },
      "execution_count": 1,
      "outputs": []
    },
    {
      "cell_type": "markdown",
      "source": [
        "2. (2б). Створіть два обʼєкти цього класу, де один з обʼєктів створюється із дефолтним значенням атрибуту. На одному обʼєкті отримайте значення його атрибуту, а на іншому викличте один з його методів."
      ],
      "metadata": {
        "id": "X_UlOMB0L93w"
      }
    },
    {
      "cell_type": "code",
      "source": [
        "building1 = Building(5, \"red\")\n",
        "\n",
        "building2 = Building(10, \"blue\", \"concrete\")\n",
        "\n",
        "print(f\"Building1 material: {building1.material}\")\n",
        "\n",
        "building2.repaint(\"green\")\n"
      ],
      "metadata": {
        "id": "7gBu0ESOMCpG",
        "colab": {
          "base_uri": "https://localhost:8080/"
        },
        "outputId": "73a4e7b4-8b9d-428b-8b86-0d46d05a06e9"
      },
      "execution_count": 2,
      "outputs": [
        {
          "output_type": "stream",
          "name": "stdout",
          "text": [
            "Building1 material: brick\n",
            "The building has been repainted to green.\n"
          ]
        }
      ]
    },
    {
      "cell_type": "markdown",
      "source": [
        "3. (5б). Створіть клас, де атрибути мають різні рівні доступу. Спробуйте отримати їхні значення та опишіть результати."
      ],
      "metadata": {
        "id": "HoqSCZt1MHn5"
      }
    },
    {
      "cell_type": "code",
      "source": [
        "class SecureBuilding:\n",
        "    def __init__(self):\n",
        "        self.public_attr = \"This is public\"\n",
        "        self._protected_attr = \"This is protected\"\n",
        "        self.__private_attr = \"This is private\"\n",
        "\n",
        "    def get_private_attr(self):\n",
        "        return self.__private_attr\n"
      ],
      "metadata": {
        "id": "r9b3vJxBMSPV"
      },
      "execution_count": 3,
      "outputs": []
    },
    {
      "cell_type": "markdown",
      "source": [
        "4. (7б). Як ви розумієте термін self? Для чого використовується метод __init __?"
      ],
      "metadata": {
        "id": "5op2m2vgMSkZ"
      }
    },
    {
      "cell_type": "markdown",
      "source": [
        "Self це щось по типу key в javascript. __init __ перевизначає об'єкт для ініціалізації атрибутів."
      ],
      "metadata": {
        "id": "DyiPqNRvMasx"
      }
    },
    {
      "cell_type": "markdown",
      "source": [
        "5. (9б). Створіть клас 3D-фігура без атрибутів, з методом get_volume для отримання об'єму фігури, що повертає 0 та __add __, який приймає self та other в якості аргументів, а повертає суму об'ємів 3d-фігур self та other."
      ],
      "metadata": {
        "id": "-6X8EGfjMd2y"
      }
    },
    {
      "cell_type": "code",
      "source": [
        "class ThreeDFigure:\n",
        "    def get_volume(self):\n",
        "        return 0\n",
        "\n",
        "    def __add__(self, other):\n",
        "        return self.get_volume() + other.get_volume()\n"
      ],
      "metadata": {
        "id": "4rvO_wYUMaEr"
      },
      "execution_count": 4,
      "outputs": []
    },
    {
      "cell_type": "markdown",
      "source": [
        "6. (11б). Створіть 2 дочірніх класи від 3d-фігура: Циліндр та Куб, які мають атрибути, необхідні для розрахунку об'єму. Визначте метод get_volume в кожному з них так, щоби вони розраховували об'єм у залежності від формули для кожного типу фігури. Створіть обʼєкт класу Циліндр та обʼєкт класу Куб. Виконайте операцію суми за допомогою оператора + між ними, аби знайти сумарний об'єм."
      ],
      "metadata": {
        "id": "SFcKnnv5Mo_z"
      }
    },
    {
      "cell_type": "code",
      "source": [
        "class Cylinder(ThreeDFigure):\n",
        "    def __init__(self, radius, height):\n",
        "        self.radius = radius\n",
        "        self.height = height\n",
        "\n",
        "    def get_volume(self):\n",
        "        return math.pi * (self.radius ** 2) * self.height\n",
        "\n",
        "class Cube(ThreeDFigure):\n",
        "    def __init__(self, side):\n",
        "        self.side = side\n",
        "\n",
        "    def get_volume(self):\n",
        "        return self.side ** 3\n",
        "\n",
        "if __name__ == \"__main__\":\n",
        "    cyl = Cylinder(3, 5)\n",
        "    cub = Cube(4)\n",
        "\n",
        "    print(\"Cylinder volume:\", cyl.get_volume())\n",
        "    print(\"Cube volume:\", cub.get_volume())\n",
        "    print(\"Sum of volumes:\", cyl + cub)\n"
      ],
      "metadata": {
        "id": "H3GVNr69Muf3",
        "colab": {
          "base_uri": "https://localhost:8080/"
        },
        "outputId": "36101e44-8326-40e0-8590-5090673919e2"
      },
      "execution_count": 7,
      "outputs": [
        {
          "output_type": "stream",
          "name": "stdout",
          "text": [
            "Cylinder volume: 141.3716694115407\n",
            "Cube volume: 64\n",
            "Sum of volumes: 205.3716694115407\n"
          ]
        }
      ]
    },
    {
      "cell_type": "markdown",
      "source": [
        "7. (3б). Продемонструйте різницю між isinstance та issubclass."
      ],
      "metadata": {
        "id": "HCvR206YMvLK"
      }
    },
    {
      "cell_type": "code",
      "source": [
        "# Building is a base class representing a generic building\n",
        "class Building:\n",
        "    pass\n",
        "\n",
        "# House is a subclass of Building\n",
        "class House(Building):\n",
        "    pass\n",
        "\n",
        "# Create an instance of House\n",
        "my_house = House()\n",
        "\n",
        "# isinstance(obj, Class) checks if 'obj' is an instance of 'Class' or its subclass\n",
        "print(isinstance(my_house, House))     # True\n",
        "print(isinstance(my_house, Building))  # True\n",
        "\n",
        "# issubclass(SubClass, ParentClass) checks if 'SubClass' is a subclass of 'ParentClass'\n",
        "print(issubclass(House, Building))     # True\n",
        "print(issubclass(Building, House))     # False\n",
        "\n"
      ],
      "metadata": {
        "id": "L_V1bBvDM0GN",
        "colab": {
          "base_uri": "https://localhost:8080/"
        },
        "outputId": "b1c87e2e-3d55-4352-b1e0-6a4111437ac4"
      },
      "execution_count": 9,
      "outputs": [
        {
          "output_type": "stream",
          "name": "stdout",
          "text": [
            "True\n",
            "True\n",
            "True\n",
            "False\n"
          ]
        }
      ]
    },
    {
      "cell_type": "markdown",
      "source": [
        "8. (13б). Створіть клас EWallet з приватними атрибутами balance та id. Реалізуйте методи поповнення та зняття коштів, забезпечивши належну інкапсуляцію. Підказка: використовуйте декоратори property та setter."
      ],
      "metadata": {
        "id": "jjsaBZ-iM0Qq"
      }
    },
    {
      "cell_type": "code",
      "source": [
        "class EWallet:\n",
        "    def __init__(self, wallet_id, initial_balance=0):\n",
        "        # Private attributes\n",
        "        self.__id = wallet_id\n",
        "        self.__balance = initial_balance\n",
        "\n",
        "    @property\n",
        "    def balance(self):\n",
        "        # Getter for balance\n",
        "        return self.__balance\n",
        "\n",
        "    @balance.setter\n",
        "    def balance(self, amount):\n",
        "        # Setter for balance with validation\n",
        "        if amount < 0:\n",
        "            raise ValueError(\"Balance cannot be negative.\")\n",
        "        self.__balance = amount\n",
        "\n",
        "    @property\n",
        "    def id(self):\n",
        "        # Getter for wallet id\n",
        "        return self.__id\n",
        "\n",
        "    def deposit(self, amount):\n",
        "        # Method to add money to the wallet\n",
        "        if amount <= 0:\n",
        "            raise ValueError(\"Deposit amount must be positive.\")\n",
        "        self.__balance += amount\n",
        "\n",
        "    def withdraw(self, amount):\n",
        "        # Method to remove money from the wallet\n",
        "        if amount <= 0:\n",
        "            raise ValueError(\"Withdrawal amount must be positive.\")\n",
        "        if amount > self.__balance:\n",
        "            raise ValueError(\"Insufficient funds.\")\n",
        "        self.__balance -= amount\n",
        "\n",
        "if __name__ == \"__main__\":\n",
        "\n",
        "    my_wallet = EWallet(\"W123\", 100)\n",
        "    print(my_wallet.balance)  # 100\n",
        "    my_wallet.deposit(50)\n",
        "    print(my_wallet.balance)  # 150\n",
        "    my_wallet.withdraw(70)\n",
        "    print(my_wallet.balance)  # 80\n",
        "    print(my_wallet.id)       # W123\n"
      ],
      "metadata": {
        "id": "xCvZ7lh8M7YA",
        "colab": {
          "base_uri": "https://localhost:8080/"
        },
        "outputId": "b592004e-3b12-4d36-d61a-1eefbee08738"
      },
      "execution_count": 10,
      "outputs": [
        {
          "output_type": "stream",
          "name": "stdout",
          "text": [
            "100\n",
            "150\n",
            "80\n",
            "W123\n"
          ]
        }
      ]
    },
    {
      "cell_type": "markdown",
      "source": [
        "9. (11б). Створіть клас ShoppingCart, який містить список об'єктів типу Item. Реалізуйте методи для додавання айтемів, їх видалення та відображення списку айтемів."
      ],
      "metadata": {
        "id": "tIzL2SJTM8ft"
      }
    },
    {
      "cell_type": "code",
      "source": [
        "# Represents a single item in the shopping cart\n",
        "class Item:\n",
        "    def __init__(self, name, price, quantity=1):\n",
        "        self.name = name\n",
        "        self.price = price\n",
        "        self.quantity = quantity\n",
        "\n",
        "    def __str__(self):\n",
        "        return f\"{self.name} - {self.price} x {self.quantity}\"\n",
        "\n",
        "# Represents a shopping cart that holds multiple items\n",
        "class ShoppingCart:\n",
        "    def __init__(self):\n",
        "        self.items = []\n",
        "\n",
        "    def add_item(self, item):\n",
        "        # Adds an item to the cart\n",
        "        self.items.append(item)\n",
        "\n",
        "    def remove_item(self, item_name):\n",
        "        # Removes an item by its name (if it exists)\n",
        "        for i, item in enumerate(self.items):\n",
        "            if item.name == item_name:\n",
        "                del self.items[i]\n",
        "                return True\n",
        "        return False\n",
        "\n",
        "    def display_items(self):\n",
        "        # Prints the list of items in the cart\n",
        "        if not self.items:\n",
        "            print(\"Cart is empty.\")\n",
        "        else:\n",
        "            for item in self.items:\n",
        "                print(item)\n",
        "\n",
        "# Example usage\n",
        "if __name__ == \"__main__\":\n",
        "    cart = ShoppingCart()\n",
        "    item1 = Item(\"Apple\", 0.5, 4)\n",
        "    item2 = Item(\"Banana\", 0.3, 6)\n",
        "\n",
        "    cart.add_item(item1)\n",
        "    cart.add_item(item2)\n",
        "    cart.display_items()\n",
        "\n",
        "    cart.remove_item(\"Apple\")\n",
        "    cart.display_items()\n"
      ],
      "metadata": {
        "id": "HWxfJKLtNAUZ",
        "colab": {
          "base_uri": "https://localhost:8080/"
        },
        "outputId": "1be41f49-a727-4210-df41-b430aa300102"
      },
      "execution_count": 11,
      "outputs": [
        {
          "output_type": "stream",
          "name": "stdout",
          "text": [
            "Apple - 0.5 x 4\n",
            "Banana - 0.3 x 6\n",
            "Banana - 0.3 x 6\n"
          ]
        }
      ]
    },
    {
      "cell_type": "markdown",
      "source": [
        "10. (13б). Створіть клас Vehicle з атрибутами brand (manufacturer) та production_age. Створіть ще один клас Engine з такими атрибутами, як type (ex. petrol) та size (volume, litres). Створіть клас Car, який успадковує обидва класи Vehicle та Engine. Продемонструйте використання множинної спадковості, створивши обʼєкт класу Car та отримавши mro для цього класу."
      ],
      "metadata": {
        "id": "lmV8pAwwNIqu"
      }
    },
    {
      "cell_type": "code",
      "source": [
        "# Represents basic vehicle data\n",
        "class Vehicle:\n",
        "    def __init__(self, brand, production_age):\n",
        "        self.brand = brand\n",
        "        self.production_age = production_age\n",
        "\n",
        "# Represents engine specifications\n",
        "class Engine:\n",
        "    def __init__(self, engine_type, size):\n",
        "        self.engine_type = engine_type\n",
        "        self.size = size\n",
        "\n",
        "# Aggregates Vehicle and Engine\n",
        "class Car:\n",
        "    def __init__(self, vehicle, engine):\n",
        "        self.vehicle = vehicle\n",
        "        self.engine = engine\n",
        "\n",
        "    def get_info(self):\n",
        "        return (f\"Brand: {self.vehicle.brand}, Age: {self.vehicle.production_age} years, \"\n",
        "                f\"Engine: {self.engine.engine_type}, {self.engine.size} L\")\n",
        "\n",
        "if __name__ == \"__main__\":\n",
        "    vehicle_obj = Vehicle(\"Toyota\", 5)\n",
        "    engine_obj = Engine(\"petrol\", 2.0)\n",
        "    my_car = Car(vehicle_obj, engine_obj)\n",
        "    print(my_car.get_info())\n"
      ],
      "metadata": {
        "id": "R49grKlWNPeN",
        "colab": {
          "base_uri": "https://localhost:8080/"
        },
        "outputId": "7b7ae81a-e7cf-4b1e-c3cb-954186b6e9e5"
      },
      "execution_count": 12,
      "outputs": [
        {
          "output_type": "stream",
          "name": "stdout",
          "text": [
            "Brand: Toyota, Age: 5 years, Engine: petrol, 2.0 L\n"
          ]
        }
      ]
    },
    {
      "cell_type": "markdown",
      "source": [
        "# II. Iterator"
      ],
      "metadata": {
        "id": "dIJyUiNBFG8G"
      }
    },
    {
      "cell_type": "markdown",
      "source": [
        "11. (4б). Визначте рядок(str) з 4ма різними за значенням символами. Створіть ітератор на основі цього рядка. Викличте 5 разів функцію next на ітераторі, 4ри перших з них огорніть у ф-цію print()."
      ],
      "metadata": {
        "id": "13vsm0NyKIzL"
      }
    },
    {
      "cell_type": "code",
      "source": [
        "str = \"abcd\"\n",
        "iter_str = iter(str)\n",
        "print(next(iter_str))\n",
        "print(next(iter_str))\n",
        "print(next(iter_str))\n",
        "print(next(iter_str))\n",
        "#next(iter_str) #очевидно виникає помилка\n"
      ],
      "metadata": {
        "id": "81ntabAkKuz-",
        "colab": {
          "base_uri": "https://localhost:8080/"
        },
        "outputId": "d9b6fc09-cfe9-4183-cfdd-0d924672700e"
      },
      "execution_count": 16,
      "outputs": [
        {
          "output_type": "stream",
          "name": "stdout",
          "text": [
            "a\n",
            "b\n",
            "c\n",
            "d\n"
          ]
        }
      ]
    },
    {
      "cell_type": "markdown",
      "source": [
        "А що якщо викликати цю ж функцію на рядку?"
      ],
      "metadata": {
        "id": "aekWHGXOLRsO"
      }
    },
    {
      "cell_type": "code",
      "source": [
        "#next(str) #next() тільки для iter object"
      ],
      "metadata": {
        "id": "mxATGsErLV1i"
      },
      "execution_count": 18,
      "outputs": []
    },
    {
      "cell_type": "markdown",
      "source": [
        " 12. (5б). Опишіть своїми словами в одному реченні, як ви розумієте різницю між ітерабельними обʼєктами та ітераторами (можна на прикладі)."
      ],
      "metadata": {
        "id": "XwtMEopwJ4pH"
      }
    },
    {
      "cell_type": "markdown",
      "source": [
        "Різниця між ітерованими об’єктами та ітераторами:\n",
        "\n",
        "Ітерований об’єкт (iterable) — це об’єкт, з якого можна отримати ітератор (наприклад, список, рядок).\n",
        "\n",
        "Ітератор (iterator) — це об’єкт, що підтримує метод __next __() (або функцію next()), повертає елементи послідовно і викидає StopIteration, коли елементи закінчуються."
      ],
      "metadata": {
        "id": "-sHrODc3KFn8"
      }
    },
    {
      "cell_type": "markdown",
      "source": [
        "13. (11б). Створіть клас, що має визначений Iterator Protocol та при кожному виклику next повертає назву дня тижня, поки вони не вичерпаються. Зверніть увагу, що порядок має значення."
      ],
      "metadata": {
        "id": "E9qJWmNbK8Gl"
      }
    },
    {
      "cell_type": "code",
      "source": [
        "class DaysOfWeek:\n",
        "    def __init__(self):\n",
        "        self.days = [\"Monday\", \"Tuesday\", \"Wednesday\", \"Thursday\", \"Friday\", \"Saturday\", \"Sunday\"]\n",
        "        self.index = 0\n",
        "\n",
        "    def __iter__(self):\n",
        "        return self\n",
        "\n",
        "    def __next__(self):\n",
        "        if self.index >= len(self.days):\n",
        "            raise StopIteration\n",
        "        day = self.days[self.index]\n",
        "        self.index += 1\n",
        "        return day\n",
        "\n",
        "if __name__ == \"__main__\":\n",
        "    days_iterator = DaysOfWeek()\n",
        "    for day in days_iterator:\n",
        "        print(day)\n"
      ],
      "metadata": {
        "id": "cqx-g_RsLo6I",
        "colab": {
          "base_uri": "https://localhost:8080/"
        },
        "outputId": "f5cac2e8-60c8-4001-c835-7a0176d6585c"
      },
      "execution_count": 19,
      "outputs": [
        {
          "output_type": "stream",
          "name": "stdout",
          "text": [
            "Monday\n",
            "Tuesday\n",
            "Wednesday\n",
            "Thursday\n",
            "Friday\n",
            "Saturday\n",
            "Sunday\n"
          ]
        }
      ]
    },
    {
      "cell_type": "markdown",
      "source": [
        "# Вітаю! Ви велика(ий) молодець, що впоралась(вся). Похваліть себе та побалуйте чимось приємним. Я Вами пишаюся."
      ],
      "metadata": {
        "id": "Z3E3S_s1Fv7-"
      }
    }
  ]
}